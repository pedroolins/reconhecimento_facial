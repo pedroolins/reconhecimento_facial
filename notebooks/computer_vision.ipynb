{
 "cells": [
  {
   "cell_type": "code",
   "execution_count": 30,
   "metadata": {},
   "outputs": [],
   "source": [
    "## importando as funções necessárias\n",
    "import matplotlib.pyplot as plt\n",
    "from os import listdir, rename\n",
    "from os.path import isfile\n",
    "import numpy as np\n",
    "import shutil\n",
    "import cv2\n",
    "\n",
    "## criando funções que poderão auxiliar no projeto\n",
    "\n",
    "def padroniza_img(img):\n",
    "    img = cv2.resize(img, dsize=(200, 200), interpolation=cv2.INTER_LANCZOS4)\n",
    "    return img\n",
    "\n",
    "def ler_img(path_img):\n",
    "    img = cv2.imread(path_img)\n",
    "    img = padroniza_img(img)\n",
    "    return img\n",
    "def ler_img_gray(path_img):\n",
    "    img = cv2.imread(path_img)\n",
    "    img  = cv2.cvtColor(img, cv2.COLOR_BGR2GRAY)\n",
    "    return img"
   ]
  },
  {
   "cell_type": "code",
   "execution_count": 31,
   "metadata": {},
   "outputs": [],
   "source": [
    "# renomeando os arquivos com as fotos\n",
    "DICT_NOMES = {\n",
    "    'joao': '01',\n",
    "    'bea': '02',\n",
    "    'marcia': '03',\n",
    "}\n",
    "for nome in DICT_NOMES.keys():\n",
    "    num_suj = DICT_NOMES.get(nome)\n",
    "    path = f\"../minhas_img/todas_imgs/{nome}/\"\n",
    "    for i, file in enumerate(listdir(path)):\n",
    "        if isfile(path+file):\n",
    "            i = str(i).zfill(2)\n",
    "            rename(path+ file, path + f'suj_{num_suj}_{i}.jpeg')"
   ]
  },
  {
   "cell_type": "code",
   "execution_count": 32,
   "metadata": {},
   "outputs": [
    {
     "name": "stdout",
     "output_type": "stream",
     "text": [
      "suj_01_00.jpeg\n",
      "suj_01_01.jpeg\n",
      "suj_01_02.jpeg\n",
      "suj_01_03.jpeg\n",
      "suj_01_04.jpeg\n",
      "suj_01_05.jpeg\n",
      "suj_01_06.jpeg\n",
      "suj_01_07.jpeg\n",
      "pulou:suj_01_08.jpeg\n",
      "suj_01_08.jpeg\n",
      "pulou:suj_01_09.jpeg\n",
      "suj_01_09.jpeg\n",
      "suj_01_10.jpeg\n",
      "pulou:suj_01_11.jpeg\n",
      "suj_01_11.jpeg\n",
      "suj_01_12.jpeg\n",
      "pulou:suj_01_13.jpeg\n",
      "suj_01_13.jpeg\n",
      "suj_01_14.jpeg\n",
      "pulou:suj_01_15.jpeg\n",
      "suj_01_15.jpeg\n",
      "pulou:suj_01_16.jpeg\n",
      "suj_01_16.jpeg\n",
      "suj_01_17.jpeg\n",
      "suj_01_18.jpeg\n",
      "suj_01_19.jpeg\n",
      "suj_01_20.jpeg\n",
      "suj_01_21.jpeg\n",
      "pulou:suj_01_22.jpeg\n",
      "suj_01_22.jpeg\n",
      "pulou:suj_01_23.jpeg\n",
      "suj_01_23.jpeg\n",
      "pulou:suj_01_24.jpeg\n",
      "suj_01_24.jpeg\n",
      "pulou:suj_01_25.jpeg\n",
      "suj_01_25.jpeg\n",
      "suj_01_26.jpeg\n",
      "suj_01_27.jpeg\n",
      "suj_01_28.jpeg\n",
      "suj_01_29.jpeg\n",
      "pulou:suj_01_30.jpeg\n",
      "suj_01_30.jpeg\n",
      "suj_01_31.jpeg\n",
      "suj_01_32.jpeg\n",
      "suj_01_33.jpeg\n",
      "pulou:suj_01_34.jpeg\n",
      "suj_01_34.jpeg\n",
      "suj_01_35.jpeg\n",
      "pulou:suj_01_36.jpeg\n",
      "suj_01_36.jpeg\n",
      "suj_01_37.jpeg\n",
      "suj_01_38.jpeg\n",
      "pulou:suj_01_39.jpeg\n",
      "suj_01_39.jpeg\n",
      "suj_01_40.jpeg\n",
      "pulou:suj_01_41.jpeg\n",
      "suj_01_41.jpeg\n",
      "pulou:suj_01_42.jpeg\n",
      "suj_01_42.jpeg\n",
      "suj_02_00.jpeg\n",
      "suj_02_01.jpeg\n",
      "suj_02_02.jpeg\n",
      "pulou:suj_02_03.jpeg\n",
      "suj_02_03.jpeg\n",
      "suj_02_04.jpeg\n",
      "suj_02_05.jpeg\n",
      "pulou:suj_02_06.jpeg\n",
      "suj_02_06.jpeg\n",
      "suj_02_07.jpeg\n",
      "pulou:suj_02_08.jpeg\n",
      "suj_02_08.jpeg\n",
      "suj_02_09.jpeg\n",
      "pulou:suj_02_10.jpeg\n",
      "suj_02_10.jpeg\n",
      "suj_02_11.jpeg\n",
      "suj_02_12.jpeg\n",
      "suj_03_00.jpeg\n",
      "suj_03_01.jpeg\n",
      "suj_03_02.jpeg\n",
      "suj_03_03.jpeg\n",
      "suj_03_04.jpeg\n",
      "suj_03_05.jpeg\n",
      "suj_03_06.jpeg\n",
      "suj_03_07.jpeg\n",
      "suj_03_08.jpeg\n",
      "suj_03_09.jpeg\n",
      "suj_03_10.jpeg\n",
      "suj_03_11.jpeg\n",
      "suj_03_12.jpeg\n"
     ]
    }
   ],
   "source": [
    "## pegando as faces das fotos e jogando para a paste de faces\n",
    "## classificador de face\n",
    "haar_cascade_path = \"../classificadores/haarcascade_frontalface_default.xml\"\n",
    "modelo_haar_cascade = cv2.CascadeClassifier(haar_cascade_path)\n",
    "\n",
    "for nome in DICT_NOMES.keys():\n",
    "    path = f\"../minhas_img/todas_imgs/{nome}/\"\n",
    "    for file in listdir(path):\n",
    "        imagem = ler_img(path + file)\n",
    "        faces = modelo_haar_cascade.detectMultiScale(imagem, 1.3, 5)\n",
    "        if len(faces) > 0:\n",
    "            for x, y, w, h in faces:\n",
    "                img = imagem[y : y + h, x : x + w]\n",
    "                cv2.imwrite(f\"../minhas_img/todas_imgs/{nome}_faces/{file}\", img)\n",
    "        else:\n",
    "            print('pulou:' + file)\n",
    "        print(file)"
   ]
  },
  {
   "cell_type": "markdown",
   "metadata": {},
   "source": [
    "## Colocando os dados na pasta train"
   ]
  },
  {
   "cell_type": "code",
   "execution_count": 33,
   "metadata": {},
   "outputs": [
    {
     "name": "stdout",
     "output_type": "stream",
     "text": [
      "../minhas_img/todas_imgs/joao_faces/\n",
      "../minhas_img/todas_imgs/bea_faces/\n",
      "../minhas_img/todas_imgs/marcia_faces/\n"
     ]
    }
   ],
   "source": [
    "for nome in DICT_NOMES.keys():\n",
    "    path = f\"../minhas_img/todas_imgs/{nome}_faces/\"\n",
    "    print(path)\n",
    "    for file in listdir(path):\n",
    "        if isfile(path+file):\n",
    "            path_origem = path + file\n",
    "            path_destino_train = '../minhas_img/train/' + file \n",
    "            shutil.copyfile(path_origem, path_destino_train)"
   ]
  },
  {
   "cell_type": "code",
   "execution_count": 34,
   "metadata": {},
   "outputs": [],
   "source": [
    "## pegando os dados de treino\n",
    "sujeitos_train = []\n",
    "dados_train = []\n",
    "\n",
    "path_train = \"../minhas_img/train/\"\n",
    "\n",
    "##dados de treino para o classificador\n",
    "for dados in listdir(path_train):\n",
    "    num_pessoa = int(dados[4:6])\n",
    "    sujeitos_train.append(num_pessoa)\n",
    "    img = ler_img_gray(path_train + dados)\n",
    "    dados_train.append(img)\n",
    "\n",
    "DEPARA_PESSOAS = {\n",
    "    1: \"JOAO PEDRO\",\n",
    "    3: \"BEA\",\n",
    "    2: \"MARCIA\"\n",
    "}\n",
    "\n",
    "sujeitos_train = np.asarray(sujeitos_train)"
   ]
  },
  {
   "cell_type": "markdown",
   "metadata": {},
   "source": [
    "## Instanciando o classificador"
   ]
  },
  {
   "cell_type": "code",
   "execution_count": 35,
   "metadata": {},
   "outputs": [
    {
     "data": {
      "text/plain": [
       "array([1, 1, 1, 1, 1, 1, 1, 1, 1, 1, 1, 1, 1, 1, 1, 1, 1, 1, 1, 1, 1, 1,\n",
       "       1, 1, 1, 1, 1, 2, 2, 2, 2, 2, 2, 2, 2, 2, 3, 3, 3, 3, 3, 3, 3, 3,\n",
       "       3, 3, 3, 3, 3])"
      ]
     },
     "execution_count": 35,
     "metadata": {},
     "output_type": "execute_result"
    }
   ],
   "source": [
    "sujeitos_train"
   ]
  },
  {
   "cell_type": "code",
   "execution_count": null,
   "metadata": {},
   "outputs": [],
   "source": [
    "# instanciando o modelo\n",
    "modelo_lbph = cv2.face.LBPHFaceRecognizer_create()\n",
    "\n",
    "# treinando o modelo\n",
    "modelo_lbph.train(dados_train, sujeitos_train)\n",
    "\n",
    "# salvando o modelo treinando na pasta models\n",
    "modelo_lbph.write('../models/modelo_treinado.yml')"
   ]
  },
  {
   "cell_type": "code",
   "execution_count": null,
   "metadata": {},
   "outputs": [],
   "source": []
  }
 ],
 "metadata": {
  "interpreter": {
   "hash": "baec36866a882996c90972c9f2ff1cb71b0852959265a274a9f17b7db56ebbd3"
  },
  "kernelspec": {
   "display_name": "Python 3.9.9 ('env': venv)",
   "language": "python",
   "name": "python3"
  },
  "language_info": {
   "codemirror_mode": {
    "name": "ipython",
    "version": 3
   },
   "file_extension": ".py",
   "mimetype": "text/x-python",
   "name": "python",
   "nbconvert_exporter": "python",
   "pygments_lexer": "ipython3",
   "version": "3.9.9"
  },
  "orig_nbformat": 4
 },
 "nbformat": 4,
 "nbformat_minor": 2
}
